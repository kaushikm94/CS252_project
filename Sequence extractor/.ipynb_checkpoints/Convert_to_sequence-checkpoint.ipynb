{
 "cells": [
  {
   "cell_type": "code",
   "execution_count": 21,
   "metadata": {
    "scrolled": true
   },
   "outputs": [
    {
     "name": "stdout",
     "output_type": "stream",
     "text": [
      "173\n",
      "101\n",
      "[2, 3, 2, 4, 5, 2, 7, 6, 3, 9, 2, 3, 2, 10, 5, 9, 11, 12, 3, 2, 13, 9, 2, 6, 7, 12, 14, 15, 16, 6, 13, 2, 6, 7, 25, 13, 16, 2, 6, 7, 25, 2, 19, 13, 16, 13, 16, 10, 24, 2, 19, 20, 16, 20, 16, 2, 19, 10, 24, 28, 24, 2, 19, 27, 24, 28, 24, 2, 19, 26, 20, 16, 20, 16, 20, 16, 20, 16, 20, 16, 20, 2, 19, 10, 15, 16, 15, 16, 2, 19, 26, 10, 24, 10, 24, 10, 24, 10, 24, 10, 24]\n",
      "Missing 28\n"
     ]
    }
   ],
   "source": [
    "import re\n",
    "with open('C:/Users/Karthik/Desktop/297/js_libraries/final extracted/tracker_base.txt', 'r') as myfile:\n",
    "    file1=myfile.readlines()\n",
    "print(len(file1))\n",
    "opcode1=[]\n",
    "i=0\n",
    "nocount=0;\n",
    "mydict={\"aaload\":1,\"aload_0\":2,\"invokespecial\":3,\"iload_3\":4,\"putfield\":5,\"aload_1\":6,\"aload_2\":7,\n",
    "       \"tableswitch\":8,\"return\":9,\"iconst_0\":10,\"new\":11,\"dup\":12,\"invokestatic\":13,\"aconst_null\":14,\n",
    "        \"invokevirtual\":15,\"areturn\":16,\"ifne\":17,\"aload\":18,\"getfield\":19,\"ldc\":20,\"sipush\":21,\"bipush\":22,\n",
    "        \"putstatic\":23,\"ireturn\":24,\"aload_3\":25,\"iload_1\":26,\"iconst_4\":27,\"iconst_1\":28,\"iconst_3\":29,\n",
    "       }\n",
    "\n",
    "temp=0;\n",
    "while(i<len(file1)):\n",
    "    x = file1[i].strip()\n",
    "    #print(x);\n",
    "    if(x!=\"\"):\n",
    "        if(x[0].isdigit()):\n",
    "            temp=temp+1;\n",
    "            y = x.split(\":\")[1].strip()\n",
    "            #parsed = re.sub('(\\\\s[0-9]+$)','\\1',y)\n",
    "            parsed= re.sub('#[0-9$]+', '', y).strip()\n",
    "    #         print(parsed);\n",
    "            if(parsed in list(mydict.keys())):\n",
    "                opcode1.append(mydict[parsed])\n",
    "            else:\n",
    "                #print(parsed)\n",
    "                nocount = nocount+1;\n",
    "        i=i+1;\n",
    "    else:\n",
    "        i=i+1;\n",
    "# print(temp)\n",
    "print(len(opcode1))\n",
    "print(opcode1) \n",
    "print(\"Missing\",nocount);"
   ]
  },
  {
   "cell_type": "code",
   "execution_count": null,
   "metadata": {},
   "outputs": [],
   "source": []
  },
  {
   "cell_type": "code",
   "execution_count": null,
   "metadata": {},
   "outputs": [],
   "source": [
    "X= []\n",
    "for i in range(150):\n",
    "    X.append(1);\n",
    "print(X)"
   ]
  },
  {
   "cell_type": "code",
   "execution_count": null,
   "metadata": {},
   "outputs": [],
   "source": []
  }
 ],
 "metadata": {
  "kernelspec": {
   "display_name": "Python 3",
   "language": "python",
   "name": "python3"
  },
  "language_info": {
   "codemirror_mode": {
    "name": "ipython",
    "version": 3
   },
   "file_extension": ".py",
   "mimetype": "text/x-python",
   "name": "python",
   "nbconvert_exporter": "python",
   "pygments_lexer": "ipython3",
   "version": "3.6.2"
  }
 },
 "nbformat": 4,
 "nbformat_minor": 2
}
