{
 "cells": [
  {
   "cell_type": "code",
   "execution_count": 1,
   "metadata": {},
   "outputs": [],
   "source": [
    "from pathlib import Path\n",
    "import matplotlib.pyplot as plt\n",
    "contents = Path(r\"C:\\Users\\Karthik\\Desktop\\All documents\\SEM01\\aplp\\Project\\CS252_project\\Output files\\sampleJS_finalconverted.txt\").read_text();"
   ]
  },
  {
   "cell_type": "code",
   "execution_count": 6,
   "metadata": {},
   "outputs": [
    {
     "name": "stdout",
     "output_type": "stream",
     "text": [
      "139\n",
      "Second file contents 365\n"
     ]
    }
   ],
   "source": [
    "# Read and parse both file contents\n",
    "\n",
    "with open('Output files\\sampleJS_opcode.java', 'r') as myfile:\n",
    "    #input file as an array\n",
    "    file1=myfile.readlines()\n",
    "    #input file character by character\n",
    "    #file1=myfile.read()\n",
    "#with open('Output files\\sampleJS_opcode.java', 'r') as myfile:    \n",
    "with open('Output files\\Obf_sample_opcodes.java', 'r') as myfile:\n",
    "    file2=myfile.readlines()\n",
    "\n",
    "opcode1=[]\n",
    "opcode2=[]\n",
    "i=0;\n",
    "\n",
    "# Parse input file.\n",
    "# Select rows that begin with a number and ignore the rest\n",
    "while(i<len(file1)):\n",
    "    # Remove leading whitespaces\n",
    "    x = file1[i].strip()\n",
    "    # Check if it starts with a digit\n",
    "    if(x[0].isdigit()):\n",
    "        # Split based on delimiter ':' to extract actual op code\n",
    "        y = x.split(\":\")\n",
    "        opcode1.append(y[1])\n",
    "        #if(y[1].isdigit()):\n",
    "            #opcode.append(y[1])\n",
    "    i=i+1;\n",
    "\n",
    "#print(*opcode1, sep = \"\\n\") \n",
    "n=len(opcode1)\n",
    "print(n)\n",
    "\n",
    "j=0\n",
    "print(\"Second file contents\",len(file2));\n",
    "while(j<len(file2)):\n",
    "    a = file2[j].strip()\n",
    "    if(a[0].isdigit()):\n",
    "        b = a.split(\":\")\n",
    "        #print(b[1])\n",
    "        #if(b[1].isdigit()):     Check if the split string is a digit or not\n",
    "        opcode2.append(b[1])\n",
    "    j=j+1;\n",
    "\n",
    "#print(*opcode2, sep = \"\\n\")\n",
    "m=len(opcode2)\n",
    "#print(m)"
   ]
  },
  {
   "cell_type": "code",
   "execution_count": 7,
   "metadata": {},
   "outputs": [
    {
     "data": {
      "image/png": "[encoded data removed]",
      "text/plain": [
       "<Figure size 432x288 with 1 Axes>"
      ]
     },
     "metadata": {},
     "output_type": "display_data"
    },
    {
     "data": {
      "image/png": "[encoded data removed]",
      "text/plain": [
       "<Figure size 432x288 with 1 Axes>"
      ]
     },
     "metadata": {},
     "output_type": "display_data"
    }
   ],
   "source": [
    "# Plot the similarity graph\n",
    "\n",
    "xaxis=[]\n",
    "yaxis=[]\n",
    "\n",
    "x=0\n",
    "y=0\n",
    "i=0\n",
    "\n",
    "#Check for sequential matches\n",
    "for i in range(len(opcode1)-3):\n",
    "    sub1,sub2=[],[]\n",
    "    sub1.append(opcode1[i])\n",
    "    sub1.append(opcode1[i+1])\n",
    "    sub1.append(opcode1[i+2])\n",
    "    sub2.append(opcode2[i])\n",
    "    sub2.append(opcode2[i+1])\n",
    "    sub2.append(opcode2[i+2])\n",
    "    #print(sub1,'\\n',sub2)\n",
    "    result =  all(elem in sub1  for elem in sub2)\n",
    "    #print(result)\n",
    "    if(result== True):\n",
    "        xaxis.append(i)\n",
    "        yaxis.append(i)\n",
    "\n",
    "plt.plot(n-1,m-1,xaxis,yaxis)\n",
    "plt.xlabel('x - axis')\n",
    "plt.ylabel('y - axis')\n",
    "plt.title('Similarity graph 1') \n",
    "plt.show()\n",
    "        \n",
    "#Check for all matches across both lists\n",
    "xaxis=[]\n",
    "yaxis=[]\n",
    "for i in range(len(opcode1)-3):\n",
    "    for j in range(len(opcode2)-3):\n",
    "        sub1,sub2=[],[]\n",
    "        sub1.append(opcode1[i])\n",
    "        sub1.append(opcode1[i+1])\n",
    "        sub1.append(opcode1[i+2])\n",
    "        sub2.append(opcode2[j])\n",
    "        sub2.append(opcode2[j+1])\n",
    "        sub2.append(opcode2[j+2])\n",
    "        \n",
    "        #if(sub1[0] in sub2):\n",
    "        sub1.sort();\n",
    "        sub2.sort();\n",
    "        #print(sub1,'\\n',sub2)\n",
    "        result = [temp for temp, temp1 in zip(sub1, sub2) if temp == temp1]\n",
    "        #result =  all(elem in sub1  for elem in sub2)\n",
    "        #         if(result== True):\n",
    "        #             xaxis.append(i)\n",
    "        #             yaxis.append(j)\n",
    "        #print(\"Result is:\",result,len(result),i,j)\n",
    "\n",
    "        if(len(result)==3):\n",
    "            xaxis.append(i)\n",
    "            yaxis.append(j)\n",
    "\n",
    "# print(len(xaxis),len(yaxis))\n",
    "# print(xaxis)\n",
    "# print(yaxis)\n",
    "\n",
    "#Give x values and y values. x=[], y=[].\n",
    "plt.plot(n-1,m-1,xaxis,yaxis,'bo')\n",
    "#plt.plot(n-1,m-1,xaxis,yaxis,'r--')\n",
    "plt.xlabel('x - axis')\n",
    "plt.ylabel('y - axis')\n",
    "plt.title('Similarity graph 2') \n",
    "plt.show()\n",
    "\n",
    "\n",
    "#Similarity graph 3"
   ]
  },
  {
   "cell_type": "code",
   "execution_count": 19,
   "metadata": {},
   "outputs": [
    {
     "name": "stdout",
     "output_type": "stream",
     "text": [
      "[0, 0, 1, 2, 2, 3, 3, 4, 5, 5, 5, 5, 9, 10, 10, 11, 12, 13, 14, 15, 21, 22, 22, 22, 22, 23, 24, 31, 32, 32, 32, 32, 33, 33, 34, 34, 38, 39, 39, 39, 39, 40, 40, 41, 41, 42, 43, 44, 44, 44, 44, 44, 44, 44, 51, 52, 52, 52, 53, 53, 53, 54, 54, 54, 54, 54, 54, 54, 61, 61, 62, 62, 62, 62, 62, 62, 62, 66, 66, 66, 66, 66, 66, 66, 66, 66, 66, 66, 66, 66, 66, 66, 66, 66, 66, 66, 66, 66, 66, 67, 67, 67, 67, 67, 67, 67, 67, 67, 67, 67, 67, 67, 67, 67, 67, 67, 67, 67, 67, 67, 67, 67, 67, 68, 68, 68, 69, 69, 69, 70, 70, 70, 70, 70, 70, 70, 77, 77, 77, 78, 78, 78, 78, 78, 78, 78, 98, 98, 98, 98, 98, 98, 98, 109, 109, 110, 110, 110, 110, 110, 110, 110, 116, 116, 119, 119, 119, 119, 119, 119, 119, 119, 119, 119, 119, 119, 119, 119, 119, 119, 119, 119, 119, 119, 119, 119, 120, 120, 120, 120, 120, 120, 120, 120, 120, 120, 120, 120, 120, 120, 120, 120, 120, 120, 120, 120, 120, 120, 120, 120, 121, 121, 121, 121, 121, 121, 121, 121, 121, 121, 121, 121, 121, 121, 121, 121, 121, 121, 121, 121, 121, 121, 122, 122, 122, 122, 122, 122, 122, 122, 122, 122, 122, 122, 122, 122, 122, 122, 122, 122, 122, 122, 122, 122, 122, 122, 123, 123, 123, 123, 123, 123, 123, 123, 123, 123, 123, 123, 123, 123, 123, 123, 123, 123, 123, 123, 123, 123, 124, 124, 124, 124, 124, 124, 124, 124, 124, 124, 124, 124, 124, 124, 124, 124, 124, 124, 124, 124, 124, 124, 124, 124, 125, 125, 125, 125, 125, 125, 125, 125, 125, 125, 125, 125, 125, 125, 125, 125, 125, 125, 125, 125, 125, 125, 126, 126, 126, 126, 126, 126, 126, 126, 126, 126, 126, 126, 126, 126, 126, 126, 126, 126, 126, 126, 126, 126, 126, 126]\n",
      "\n",
      "[0, 30, 1, 2, 3, 2, 3, 4, 5, 42, 52, 59, 29, 0, 30, 31, 32, 33, 34, 35, 41, 5, 42, 52, 59, 43, 44, 51, 5, 42, 52, 59, 53, 60, 54, 61, 58, 5, 42, 52, 59, 53, 60, 54, 61, 62, 63, 64, 92, 118, 144, 170, 216, 258, 89, 90, 142, 168, 91, 143, 169, 64, 92, 118, 144, 170, 216, 258, 117, 257, 64, 92, 118, 144, 170, 216, 258, 128, 130, 132, 134, 136, 138, 140, 156, 158, 164, 166, 274, 276, 278, 280, 282, 284, 286, 293, 295, 297, 299, 129, 131, 133, 135, 137, 139, 141, 155, 157, 159, 163, 165, 167, 275, 277, 279, 281, 283, 285, 287, 294, 296, 298, 300, 90, 142, 168, 91, 143, 169, 64, 92, 118, 144, 170, 216, 258, 91, 143, 169, 64, 92, 118, 144, 170, 216, 258, 64, 92, 118, 144, 170, 216, 258, 117, 257, 64, 92, 118, 144, 170, 216, 258, 123, 149, 128, 130, 132, 134, 136, 138, 140, 156, 158, 164, 166, 274, 276, 278, 280, 282, 284, 286, 293, 295, 297, 299, 129, 131, 133, 135, 137, 139, 141, 155, 157, 159, 163, 165, 167, 275, 277, 279, 281, 283, 285, 287, 294, 296, 298, 300, 128, 130, 132, 134, 136, 138, 140, 156, 158, 164, 166, 274, 276, 278, 280, 282, 284, 286, 293, 295, 297, 299, 129, 131, 133, 135, 137, 139, 141, 155, 157, 159, 163, 165, 167, 275, 277, 279, 281, 283, 285, 287, 294, 296, 298, 300, 128, 130, 132, 134, 136, 138, 140, 156, 158, 164, 166, 274, 276, 278, 280, 282, 284, 286, 293, 295, 297, 299, 129, 131, 133, 135, 137, 139, 141, 155, 157, 159, 163, 165, 167, 275, 277, 279, 281, 283, 285, 287, 294, 296, 298, 300, 128, 130, 132, 134, 136, 138, 140, 156, 158, 164, 166, 274, 276, 278, 280, 282, 284, 286, 293, 295, 297, 299, 129, 131, 133, 135, 137, 139, 141, 155, 157, 159, 163, 165, 167, 275, 277, 279, 281, 283, 285, 287, 294, 296, 298, 300]\n",
      "348\n",
      "348\n"
     ]
    }
   ],
   "source": [
    "# check to remove noise and random matches\n",
    "print(xaxis)\n",
    "print()\n",
    "print(yaxis)\n",
    "print(len(xaxis))\n",
    "print(len(yaxis))\n"
   ]
  },
  {
   "cell_type": "code",
   "execution_count": null,
   "metadata": {},
   "outputs": [],
   "source": []
  }
 ],
 "metadata": {
  "kernelspec": {
   "display_name": "Python 3",
   "language": "python",
   "name": "python3"
  },
  "language_info": {
   "codemirror_mode": {
    "name": "ipython",
    "version": 3
   },
   "file_extension": ".py",
   "mimetype": "text/x-python",
   "name": "python",
   "nbconvert_exporter": "python",
   "pygments_lexer": "ipython3",
   "version": "3.6.2"
  }
 },
 "nbformat": 4,
 "nbformat_minor": 2
}
